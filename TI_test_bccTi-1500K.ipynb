{
 "cells": [
  {
   "cell_type": "code",
   "execution_count": 1,
   "metadata": {},
   "outputs": [],
   "source": [
    "import shutil\n",
    "import numpy as np\n",
    "import matplotlib.pyplot as plt\n",
    "\n",
    "from pyiron import Project\n",
    "import pyiron_contrib\n",
    "import pyiron\n",
    "import pyiron_base\n",
    "import h5py\n",
    "from copy import deepcopy"
   ]
  },
  {
   "cell_type": "markdown",
   "metadata": {},
   "source": [
    "### Check paths and versions"
   ]
  },
  {
   "cell_type": "code",
   "execution_count": 2,
   "metadata": {},
   "outputs": [
    {
     "name": "stdout",
     "output_type": "stream",
     "text": [
      "/u/caras/pyiron_repos/pyiron/pyiron/__init__.py\n",
      "/u/caras/pyiron_repos/pyiron_base/pyiron_base/__init__.py\n",
      "/u/caras/pyiron_repos/pyiron_contrib/pyiron_contrib/__init__.py\n"
     ]
    }
   ],
   "source": [
    "print(pyiron.__file__)\n",
    "print(pyiron_base.__file__)\n",
    "print(pyiron_contrib.__file__)"
   ]
  },
  {
   "cell_type": "code",
   "execution_count": 3,
   "metadata": {},
   "outputs": [
    {
     "name": "stdout",
     "output_type": "stream",
     "text": [
      "0.3.17\n",
      "3.1.0\n"
     ]
    }
   ],
   "source": [
    "print(pyiron.__version__)\n",
    "print(h5py.__version__)"
   ]
  },
  {
   "cell_type": "code",
   "execution_count": 4,
   "metadata": {},
   "outputs": [
    {
     "name": "stdout",
     "output_type": "stream",
     "text": [
      "Are you sure you want to delete all jobs from 'TI_test_Ti1300K'? y/(n)y\n"
     ]
    },
    {
     "data": {
      "text/html": [
       "<div>\n",
       "<style scoped>\n",
       "    .dataframe tbody tr th:only-of-type {\n",
       "        vertical-align: middle;\n",
       "    }\n",
       "\n",
       "    .dataframe tbody tr th {\n",
       "        vertical-align: top;\n",
       "    }\n",
       "\n",
       "    .dataframe thead th {\n",
       "        text-align: right;\n",
       "    }\n",
       "</style>\n",
       "<table border=\"1\" class=\"dataframe\">\n",
       "  <thead>\n",
       "    <tr style=\"text-align: right;\">\n",
       "      <th></th>\n",
       "      <th>Module</th>\n",
       "      <th>Git head</th>\n",
       "    </tr>\n",
       "  </thead>\n",
       "  <tbody>\n",
       "    <tr>\n",
       "      <th>0</th>\n",
       "      <td>pyiron_base</td>\n",
       "      <td>862be30490fda1b94b2e83788aa7c5ed45bf7d4d</td>\n",
       "    </tr>\n",
       "    <tr>\n",
       "      <th>1</th>\n",
       "      <td>pyiron</td>\n",
       "      <td>d410e585babd3b07326853de38134bd182b528bd</td>\n",
       "    </tr>\n",
       "    <tr>\n",
       "      <th>2</th>\n",
       "      <td>pyiron_contrib</td>\n",
       "      <td>783f52634780db0daac40b9bcba1d7ae2a06b683</td>\n",
       "    </tr>\n",
       "    <tr>\n",
       "      <th>3</th>\n",
       "      <td>pyiron_mpie</td>\n",
       "      <td>36862f9f1e51a13e818495f4354c4defb88d63ac</td>\n",
       "    </tr>\n",
       "  </tbody>\n",
       "</table>\n",
       "</div>"
      ],
      "text/plain": [
       "           Module                                  Git head\n",
       "0     pyiron_base  862be30490fda1b94b2e83788aa7c5ed45bf7d4d\n",
       "1          pyiron  d410e585babd3b07326853de38134bd182b528bd\n",
       "2  pyiron_contrib  783f52634780db0daac40b9bcba1d7ae2a06b683\n",
       "3     pyiron_mpie  36862f9f1e51a13e818495f4354c4defb88d63ac"
      ]
     },
     "execution_count": 4,
     "metadata": {},
     "output_type": "execute_result"
    }
   ],
   "source": [
    "pr = Project('TI_test_Ti1500K')\n",
    "pr.remove_jobs(recursive=True)\n",
    "pr.get_repository_status() "
   ]
  },
  {
   "cell_type": "code",
   "execution_count": 5,
   "metadata": {},
   "outputs": [],
   "source": [
    "# inputs\n",
    "\n",
    "# structure\n",
    "element = 'Ti'\n",
    "crystal_structure = 'bcc'\n",
    "supercell = 4\n",
    "potential = '1992--Ackland-G-J--Ti--LAMMPS--ipr1'\n",
    "\n",
    "# MD specific\n",
    "a = 3.25  \n",
    "temperature = 1500.\n",
    "time_step = 1  # MD timestep\n",
    "n_steps = 50000  # MD steps\n",
    "sampling_period = 10  # same as `n_print` from calc_md\n",
    "thermalization_steps = 2000  # number of steps to equilibriate the system for\n",
    "temperature_damping_timescale = 100.  # same as the one from calc_md \n",
    "convergence_steps = 25000  # number of steps after which to check for convergence\n",
    "fe_tol = 1e-3  # convergence criterion 1meV \n",
    "\n",
    "# integration specific\n",
    "n_lambdas = 30\n",
    "\n",
    "# cluster specific\n",
    "phon_cores = 4\n",
    "phon_run_time = 1800  # in seconds\n",
    "tild_cores = n_lambdas  # if running on the headnode, use 1! Otherwise, set to n_lambdas\n",
    "queue = 'cmti'\n",
    "tild_run_time = 24400  # in seconds"
   ]
  },
  {
   "cell_type": "code",
   "execution_count": 6,
   "metadata": {},
   "outputs": [
    {
     "name": "stdout",
     "output_type": "stream",
     "text": [
      "The job bulk was saved and received the ID: 10738969\n"
     ]
    }
   ],
   "source": [
    "# structures with the expanded lattice\n",
    "\n",
    "pr_zero = pr.create_group('ionic_relaxation')\n",
    "\n",
    "bulk = pr_zero.create_job(pr.job_type.Lammps, 'bulk')\n",
    "bulk.structure = pr.create_ase_bulk(name=element, crystalstructure=crystal_structure, a=a,\n",
    "                                    cubic=True).repeat(supercell)\n",
    "n_atoms = len(bulk.structure.positions)\n",
    "bulk.potential = potential\n",
    "bulk.calc_minimize(pressure=None)  # we keep the volume constant! (because we obtained the lattice constant from MD)\n",
    "bulk.run()"
   ]
  },
  {
   "cell_type": "code",
   "execution_count": 7,
   "metadata": {},
   "outputs": [
    {
     "data": {
      "text/plain": [
       "array([-4.80657667, -4.80657667])"
      ]
     },
     "execution_count": 7,
     "metadata": {},
     "output_type": "execute_result"
    }
   ],
   "source": [
    "bulk['output/generic/energy_pot']/128"
   ]
  },
  {
   "cell_type": "code",
   "execution_count": null,
   "metadata": {},
   "outputs": [],
   "source": [
    "# show potentials\n",
    "bulk.list_potentials()"
   ]
  },
  {
   "cell_type": "code",
   "execution_count": 8,
   "metadata": {},
   "outputs": [
    {
     "data": {
      "image/png": "[encoded data removed]",
      "text/plain": [
       "<Figure size 432x288 with 1 Axes>"
      ]
     },
     "metadata": {
      "needs_background": "light"
     },
     "output_type": "display_data"
    }
   ],
   "source": [
    "# generate and plot lambdas (integration_points)\n",
    "\n",
    "def generate_lambdas(N, bias=0.5):\n",
    "    \"\"\"\n",
    "    A function to generate N points between 0 and 1, with a left, equidistant and right bias.\n",
    "    bias = 0 makes the points fully left biased. The amount of left bias can be controlled by varying it between 0 and \n",
    "        0.49.\n",
    "    bias = 0.5 keeps the points equidistant.\n",
    "    bias = 1 makes the points fully right biased. The amount of right bias can be controlled by varying it between 0.51 \n",
    "        and 1.\n",
    "    \n",
    "    \"\"\"\n",
    "    factor = bias + 0.5\n",
    "    lambdas = [0, 1]\n",
    "    for n in np.arange(N - 2):\n",
    "        lambdas.append(lambdas[-1] + (lambdas[-1] - lambdas[-2]) / factor)\n",
    "    lambdas = np.asarray(lambdas)\n",
    "    lambdas /= lambdas[-1]\n",
    "    \n",
    "    return np.around(lambdas, decimals=4)\n",
    "# we use equidistant bias in new_generate_lambdas\n",
    "lambdas = generate_lambdas(n_lambdas, bias=0.5)\n",
    "\n",
    "plt.title('lambdas')\n",
    "plt.scatter(lambdas, np.zeros(n_lambdas))\n",
    "plt.xlabel('$\\lambda$')\n",
    "plt.show()"
   ]
  },
  {
   "cell_type": "code",
   "execution_count": 10,
   "metadata": {},
   "outputs": [
    {
     "name": "stdout",
     "output_type": "stream",
     "text": [
      "The job phonopy_job was saved and received the ID: 10738981\n",
      "The job phon_ref_0 was saved and received the ID: 10738984\n"
     ]
    }
   ],
   "source": [
    "# setup phonopy jobs\n",
    "# There will be two of them.\n",
    "#1 for pos def\n",
    "#1 for neglected negative frequencies\n",
    "\n",
    "pr_phon = pr.create_group('phonons')\n",
    "\n",
    "phon_ref_job = pr_phon.create_job(pr.job_type.Lammps, 'phon_ref')\n",
    "phon_ref_job.structure = bulk.get_structure()\n",
    "phon_ref_job.potential = potential\n",
    "\n",
    "phonopy_job = phon_ref_job.create_job(pr.job_type.PhonopyJob,'phonopy_job')\n",
    "phonopy_job.input['primitive_matrix'] = 'auto'\n",
    "phonopy_job.server.cores = phon_cores\n",
    "#phonopy_job.server.queue = queue\n",
    "phonopy_job.server.run_time = phon_run_time\n",
    "phonopy_job.run()"
   ]
  },
  {
   "cell_type": "code",
   "execution_count": 11,
   "metadata": {
    "scrolled": false
   },
   "outputs": [
    {
     "name": "stdout",
     "output_type": "stream",
     "text": [
      "A_qh_normal(posdef): [-0.6950397] eV/atom\n",
      "A_qh_anormal: [-0.70214639] eV/atom\n"
     ]
    },
    {
     "data": {
      "image/png": "[encoded data removed]",
      "text/plain": [
       "<Figure size 432x288 with 4 Axes>"
      ]
     },
     "metadata": {
      "needs_background": "light"
     },
     "output_type": "display_data"
    },
    {
     "data": {
      "image/png": "[encoded data removed]",
      "text/plain": [
       "<Figure size 432x288 with 4 Axes>"
      ]
     },
     "metadata": {
      "needs_background": "light"
     },
     "output_type": "display_data"
    }
   ],
   "source": [
    "# load phonopy jobs, in case you ran this on the cluster    \n",
    "from mylib import get_fc_from_pos_dyn_matrices\n",
    "phon_path = Project(pr_phon.path)\n",
    "phonopy_job = phon_path.load('phonopy_job')\n",
    "\n",
    "phonopy_normal = phonopy_job.phonopy\n",
    "phonopy_normal.positivedefdyn = True\n",
    "phonopy_normal._set_dynamical_matrix()\n",
    "\n",
    "phonopy_anormal = deepcopy(phonopy_normal)\n",
    "phonopy_anormal.positivedefdyn = '1'\n",
    "phonopy_anormal._set_dynamical_matrix()\n",
    "\n",
    "phonopy_anormal.auto_band_structure(plot=True)\n",
    "phonopy_anormal.auto_total_dos(plot=False)\n",
    "phonopy_anormal.run_thermal_properties(temperatures=temperature)\n",
    "\n",
    "phonopy_normal.auto_band_structure(plot=True)\n",
    "phonopy_normal.auto_total_dos(plot=False)\n",
    "phonopy_normal.run_thermal_properties(temperatures=temperature)\n",
    "\n",
    "# get force constants\n",
    "force_constants_normal = get_fc_from_pos_dyn_matrices(phonopy_normal)\n",
    "force_constants_anormal = get_fc_from_pos_dyn_matrices(phonopy_anormal)\n",
    "\n",
    "at_nu_prim = phonopy_normal.primitive.get_number_of_atoms()\n",
    "\n",
    "# extract qh free energies\n",
    "A_qh_normal = phonopy_normal.get_thermal_properties_dict()['free_energy']/at_nu_prim*0.01036410 #kjmol to ev\n",
    "A_qh_anormal = phonopy_anormal.get_thermal_properties_dict()['free_energy']/at_nu_prim*0.01036410 #kjmol to ev\n",
    "\n",
    "print('A_qh_normal(posdef): {} eV/atom'.format(A_qh_normal  ))\n",
    "print('A_qh_anormal: {} eV/atom'.format(A_qh_anormal  ))\n"
   ]
  },
  {
   "cell_type": "code",
   "execution_count": 12,
   "metadata": {},
   "outputs": [
    {
     "data": {
      "text/plain": [
       "(array([ 5376.,   768., 12288., 12288.,  7936., 78080.,     0., 24576.,\n",
       "            0.,  6144.]),\n",
       " array([-0.00293007, -0.00238891, -0.00184774, -0.00130658, -0.00076542,\n",
       "        -0.00022426,  0.00031691,  0.00085807,  0.00139923,  0.00194039,\n",
       "         0.00248156]),\n",
       " <BarContainer object of 10 artists>)"
      ]
     },
     "execution_count": 12,
     "metadata": {},
     "output_type": "execute_result"
    },
    {
     "data": {
      "image/png": "[encoded data removed]",
      "text/plain": [
       "<Figure size 432x288 with 1 Axes>"
      ]
     },
     "metadata": {
      "needs_background": "light"
     },
     "output_type": "display_data"
    }
   ],
   "source": [
    "plt.hist((force_constants_anormal - force_constants_normal).reshape(-1))"
   ]
  },
  {
   "cell_type": "code",
   "execution_count": 13,
   "metadata": {},
   "outputs": [
    {
     "data": {
      "text/plain": [
       "(128, 128, 3, 3)"
      ]
     },
     "execution_count": 13,
     "metadata": {},
     "output_type": "execute_result"
    }
   ],
   "source": [
    "force_constants_anormal.shape"
   ]
  },
  {
   "cell_type": "markdown",
   "metadata": {},
   "source": [
    "## Not automatic create jobs one by one."
   ]
  },
  {
   "cell_type": "code",
   "execution_count": 15,
   "metadata": {},
   "outputs": [
    {
     "name": "stdout",
     "output_type": "stream",
     "text": [
      "The job ref_job was saved and received the ID: 10739046\n",
      "The job job was saved and received the ID: 10739049\n",
      "Queue system id:  1592942\n"
     ]
    }
   ],
   "source": [
    "pr_tild = pr.create_group('tild_jobs_anormal') ######### NAME\n",
    "pr_tild.remove_jobs_silently(recursive=True)\n",
    "\n",
    "# run the TILD protocol\n",
    "tild_ref_job = pr_tild.create_job(pr.job_type.Lammps, 'ref_job')\n",
    "tild_ref_job.potential = potential\n",
    "tild_ref_job.structure = bulk.get_structure()\n",
    "tild_ref_job.save()\n",
    "\n",
    "job = pr_tild.create_job(pr.job_type.ProtocolHarmonicTILDParallel, 'job')\n",
    "job.input.structure = bulk.get_structure()\n",
    "job.input.temperature = temperature\n",
    "job.input.ref_job_full_path = tild_ref_job.path\n",
    "job.input.spring_constant = None\n",
    "job.input.force_constants = force_constants_anormal ######### FORCE CONSTANTS\n",
    "job.input.temperature_damping_timescale = temperature_damping_timescale\n",
    "job.input.n_lambdas = n_lambdas\n",
    "job.input.sampling_period = sampling_period\n",
    "job.input.thermalization_steps = thermalization_steps\n",
    "job.input.convergence_check_steps = convergence_steps\n",
    "job.input.fe_tol = fe_tol\n",
    "job.input.custom_lambdas = lambdas\n",
    "job.input.n_steps = n_steps\n",
    "\n",
    "\n",
    "# sleep-time, set this only if you're running this on your local PC\n",
    "#job.input.sleep_time = 0.05\n",
    "\n",
    "# cluster inputs\n",
    "job.server.cores = tild_cores\n",
    "job.server.queue = queue\n",
    "job.server.run_time = tild_run_time\n",
    "\n",
    "# run_job\n",
    "job.run()"
   ]
  },
  {
   "cell_type": "code",
   "execution_count": null,
   "metadata": {},
   "outputs": [],
   "source": [
    "pr['tild_jobs_normal/job/output']"
   ]
  },
  {
   "cell_type": "code",
   "execution_count": 18,
   "metadata": {},
   "outputs": [
    {
     "data": {
      "text/plain": [
       "[<matplotlib.lines.Line2D at 0x2b9654f90310>]"
      ]
     },
     "execution_count": 18,
     "metadata": {},
     "output_type": "execute_result"
    },
    {
     "data": {
      "image/png": "[encoded data removed]",
      "text/plain": [
       "<Figure size 432x288 with 1 Axes>"
      ]
     },
     "metadata": {
      "needs_background": "light"
     },
     "output_type": "display_data"
    }
   ],
   "source": [
    "plt.plot(lambdas, pr['tild_jobs_normal/job/output/integrands/i_0'], marker='o')"
   ]
  },
  {
   "cell_type": "code",
   "execution_count": 21,
   "metadata": {},
   "outputs": [
    {
     "data": {
      "text/plain": [
       "[<matplotlib.lines.Line2D at 0x2b9655024410>]"
      ]
     },
     "execution_count": 21,
     "metadata": {},
     "output_type": "execute_result"
    },
    {
     "data": {
      "image/png": "[encoded data removed]",
      "text/plain": [
       "<Figure size 432x288 with 1 Axes>"
      ]
     },
     "metadata": {
      "needs_background": "light"
     },
     "output_type": "display_data"
    }
   ],
   "source": [
    "plt.plot(lambdas, pr['tild_jobs_anormal/job/output/integrands/i_0'], marker='o')"
   ]
  },
  {
   "cell_type": "code",
   "execution_count": 28,
   "metadata": {},
   "outputs": [
    {
     "data": {
      "text/plain": [
       "array([0.00344398])"
      ]
     },
     "execution_count": 28,
     "metadata": {},
     "output_type": "execute_result"
    }
   ],
   "source": [
    "pr['tild_jobs_anormal/job/output/tild_free_energy_std'] / n_atoms"
   ]
  },
  {
   "cell_type": "code",
   "execution_count": 27,
   "metadata": {},
   "outputs": [
    {
     "data": {
      "text/plain": [
       "array([4.9704329e-05])"
      ]
     },
     "execution_count": 27,
     "metadata": {},
     "output_type": "execute_result"
    }
   ],
   "source": [
    "pr['tild_jobs_anormal/job/output/tild_free_energy_se'] / n_atoms"
   ]
  },
  {
   "cell_type": "code",
   "execution_count": 29,
   "metadata": {},
   "outputs": [
    {
     "name": "stdout",
     "output_type": "stream",
     "text": [
      "integral_uppercase: 0.0009955021829099716 eV/atom\n",
      "A_harmonic_uppercase: [-0.70214639] eV/atom\n",
      "total_A_uppercase: [-0.70115089] eV/atom\n",
      "*-*-*-*-*-*-\n",
      "integral_lowercase: -0.007791189737652962 eV/atom\n",
      "A_harmonic_lowercase: [-0.6950397] eV/atom\n",
      "total_A_lowercase: [-0.70283089] eV/atom\n"
     ]
    }
   ],
   "source": [
    "A_tild_normal = pr['tild_jobs_normal/job/output/tild_free_energy_mean'][-1] / n_atoms\n",
    "A_tild_anormal = pr['tild_jobs_anormal/job/output/tild_free_energy_mean'][-1] / n_atoms\n",
    "\n",
    "print('integral_uppercase: {} eV/atom'.format(A_tild_anormal)) \n",
    "print('A_harmonic_uppercase: {} eV/atom'.format(A_qh_anormal  )) # This is already per atom!!!\n",
    "del_A_tild_anormal = A_qh_anormal + A_tild_anormal\n",
    "print('total_A_uppercase: {} eV/atom'.format(del_A_tild_anormal ))\n",
    "print('*-*-*-*-*-*-')\n",
    "print('integral_lowercase: {} eV/atom'.format(A_tild_normal)) \n",
    "print('A_harmonic_lowercase: {} eV/atom'.format(A_qh_normal  )) # This is already per atom!!!\n",
    "del_A_tild_normal = A_qh_normal + A_tild_normal\n",
    "print('total_A_lowercase: {} eV/atom'.format(del_A_tild_normal ))"
   ]
  },
  {
   "cell_type": "markdown",
   "metadata": {},
   "source": [
    "## Notebook ends here."
   ]
  },
  {
   "cell_type": "code",
   "execution_count": null,
   "metadata": {},
   "outputs": [],
   "source": [
    "total_steps = pr_tild['job/output/total_steps/i_0']\n",
    "temperature_mean = pr_tild['job/output/temperature_mean/i_0']\n",
    "temperature_std = pr_tild['job/output/temperature_std/i_0']\n",
    "integrands = pr_tild['job/output/integrands/i_0']\n",
    "integrands_std = pr_tild['job/output/integrands_std/i_0']\n",
    "integrands_n_samples = (pr_tild['job/output/integrands_n_samples/i_0'])\n",
    "A_tild = pr_tild['job/output/tild_free_energy_mean'][-1]  # A, because this is technically the Helmholtz free energy\n",
    "A_tild_std = pr_tild['job/output/tild_free_energy_std'][-1]\n",
    "A_tild_se = pr_tild['job/output/tild_free_energy_se'][-1]\n",
    "A_fep = pr_tild['job/output/fep_free_energy_mean'][-1]  # we also get A from the free energy perturbation method\n",
    "A_fep_std = pr_tild['job/output/fep_free_energy_std'][-1]\n",
    "A_fep_se = pr_tild['job/output/fep_free_energy_se'][-1]"
   ]
  },
  {
   "cell_type": "code",
   "execution_count": null,
   "metadata": {},
   "outputs": [],
   "source": [
    "print('mean temperature: {} K'.format(np.mean(temperature_mean)))\n",
    "print('A_tild: {} meV/atom'.format(A_tild * 1e3 / n_atoms))  # * 1e3 to convert it to meV\n",
    "print('A_fep: {} meV/atom'.format(A_fep * 1e3 / n_atoms))\n",
    "print('A_qh: {} meV/atom'.format(A_qh * 1e3 / n_atoms))\n",
    "# total contribution to free energy of the system at this temperature, including the purely harmonic part\n",
    "# add to A_qh the TILD/FEP free energies we computed to get the anharmonic free energy of the system\n",
    "del_A_tild = A_qh + A_tild\n",
    "del_A_fep = A_qh + A_fep\n",
    "print('del_A_tild: {} meV/atom'.format(del_A_tild * 1e3 / n_atoms))\n",
    "print('del_A_fep: {} meV/atom'.format(del_A_fep * 1e3 / n_atoms))"
   ]
  },
  {
   "cell_type": "code",
   "execution_count": null,
   "metadata": {},
   "outputs": [],
   "source": [
    "pr_tild['job/output/integrands_std/i_0']"
   ]
  },
  {
   "cell_type": "code",
   "execution_count": null,
   "metadata": {},
   "outputs": [],
   "source": []
  }
 ],
 "metadata": {
  "kernelspec": {
   "display_name": "Python 3",
   "language": "python",
   "name": "python3"
  },
  "language_info": {
   "codemirror_mode": {
    "name": "ipython",
    "version": 3
   },
   "file_extension": ".py",
   "mimetype": "text/x-python",
   "name": "python",
   "nbconvert_exporter": "python",
   "pygments_lexer": "ipython3",
   "version": "3.7.8"
  }
 },
 "nbformat": 4,
 "nbformat_minor": 4
}
